{
 "cells": [
  {
   "cell_type": "code",
   "execution_count": null,
   "id": "552f6fb7",
   "metadata": {},
   "outputs": [],
   "source": [
    "# 聚水潭数据收集\n",
    "\n",
    "import pandas as pd\n",
    "\n",
    "path = \"基础表.xlsx\"\n",
    "outpath = \"output.xlsx\"\n",
    "\n",
    "\"\"\"\n",
    "输出设置\n",
    "\n",
    "\"\"\"\n",
    "# pd.set_option('display.unicode.ambiguous_as_wide', True)\n",
    "# pd.set_option('display.unicode.east_asian_width', True)\n",
    "# pd.set_option('display.width', 160)\n",
    "\n",
    "# 判断产品版本普通版还是礼盒版\n",
    "def saleVersion(data):\n",
    "    new=[]\n",
    "    fin = []\n",
    "\n",
    "    for date, row in data.iterrows():\n",
    "        fin.extend(row)\n",
    "    for i in fin:\n",
    "        if \"礼盒\" in i:\n",
    "            new.append(\"礼盒版\")\n",
    "        else:\n",
    "            new.append('普通版')\n",
    "\n",
    "    op = pd.DataFrame(new)\n",
    "    with pd.ExcelWriter(outpath, mode='w') as writer:\n",
    "        op.to_excel(writer,index=False,header=None)\n",
    "    print(\"Done!\")  \n",
    "\n",
    "#设置名称\n",
    "def setGiftOrNot(db,C1, C2):\n",
    "    # 判断是否礼盒版本\n",
    "    for x, y in zip(C1,C2):\n",
    "        if x ==\"礼盒版\":\n",
    "            y = y + \"-礼盒版\"\n",
    "        result.append(y)\n",
    "        print(x,y)\n",
    "    with pd.ExcelWriter(outpath, mode='w') as writer:\n",
    "        db.to_excel(writer)\n",
    "        \n",
    "    print(\"done\")\n",
    "\n",
    "# 读取excel文件\n",
    "data = pd.read_excel(path,usecols=[\"商品名称\",],header=0)\n",
    "\n",
    "f1= data[\"销售版本\"].tolist()\n",
    "f2= data[\"组合名称\"].tolist()\n",
    "\n",
    "#接受处理之后的数据以待写入\n",
    "result = []\n",
    "\n",
    "# 将list转换为dataframe便保存\n",
    "data = pd.DataFrame(result)\n",
    "saleVersion(data)\n",
    "setGiftOrNot(data,f1,f2)\n"
   ]
  },
  {
   "cell_type": "code",
   "execution_count": null,
   "id": "2c46ef8d",
   "metadata": {},
   "outputs": [],
   "source": [
    "import pandas as pd\n",
    "data = {'列A': ['a', 'b', 'a', 'c', 'b'],\n",
    "        '列B': [1, 2, 3, 4, 5],\n",
    "        '列C': [10, 20, 30, 40, 50],\n",
    "        '列D': ['text1', 'text2', 'text3', 'text4', 'text5']}\n",
    "\n",
    "df = pd.DataFrame(data)\n",
    "\n",
    "print(df['列A'])\n",
    "for i in df['列A'].values:\n",
    "    print(i)\n"
   ]
  },
  {
   "cell_type": "code",
   "execution_count": 65,
   "id": "eb8f3da6",
   "metadata": {},
   "outputs": [
    {
     "name": "stdout",
     "output_type": "stream",
     "text": [
      "Done!\n"
     ]
    }
   ],
   "source": [
    "# 呆滞物料表型号提取\n",
    "\n",
    "\n",
    "import pandas as pd\n",
    "import re\n",
    "\n",
    "path = \"xh.xlsx\"\n",
    "outpath = \"output.xlsx\" \n",
    "\n",
    "df = pd.read_excel(path, header=0, sheet_name=0)\n",
    "# 预数据清洗\n",
    "my_list = df['物料名称']\n",
    "# 去除空格及其他影响提数的脏字段\n",
    "my_list = my_list.str.strip()\n",
    "my_list = my_list.str.replace(\" \", '')\n",
    "my_list = my_list.str.replace(\"国内\", '')\n",
    "my_list = my_list.str.replace(\"1.5M\", '')\n",
    "my_list = my_list.str.replace(\"1.7M\", '')\n",
    "my_list = my_list.to_list()\n",
    "\n",
    "# print(my_list)\n",
    "# 正则表达式：匹配字母和数字的组合，并允许其中有空格\n",
    "pattern = r'[^\\u4e00-\\u9fa5]+'\n",
    "pattern = r'电动牙刷'\n",
    "\n",
    "# 遍历列表并对每个元素进行匹配\n",
    "# matches = [re.findall(pattern, item)[0] for item in my_list]  \n",
    "# print(matches)\n",
    "\n",
    "result = []\n",
    "for i in my_list:\n",
    "    rs = re.findall(pattern,i)[0]\n",
    "    result.append(rs)\n",
    "# 输出匹配结果\n",
    "op = pd.DataFrame(result)\n",
    "with pd.ExcelWriter(outpath, mode='w') as writer:\n",
    "    # 保存数据 不保存表头\n",
    "    op.to_excel(writer,index=False,header=None)\n",
    "print(\"Done!\")  "
   ]
  },
  {
   "cell_type": "code",
   "execution_count": 1,
   "id": "1c4d052f",
   "metadata": {},
   "outputs": [
    {
     "name": "stdout",
     "output_type": "stream",
     "text": [
      "A     6\n",
      "B    15\n",
      "dtype: int64\n",
      "0    5\n",
      "1    7\n",
      "2    9\n",
      "dtype: int64\n"
     ]
    }
   ],
   "source": [
    "import pandas as pd\n",
    "\n",
    "# 示例 DataFrame\n",
    "df = pd.DataFrame({\n",
    "    'A': [1, 2, 3],\n",
    "    'B': [4, 5, 6]\n",
    "})\n",
    "\n",
    "# 按列求和\n",
    "column_sum = df.apply(sum, axis=0)\n",
    "\n",
    "# 按行求和\n",
    "row_sum = df.apply(sum, axis=1)\n",
    "\n",
    "print(column_sum)\n",
    "print(row_sum)"
   ]
  },
  {
   "cell_type": "code",
   "execution_count": 7,
   "id": "14a79f7d",
   "metadata": {},
   "outputs": [
    {
     "name": "stdout",
     "output_type": "stream",
     "text": [
      "替换后的字符串: 旅行盒紫色适配ABS版\n"
     ]
    }
   ],
   "source": [
    "import re\n",
    "\n",
    "text = \"T91国内电动牙刷旅行盒紫色适配ABS版（卖品）术叶主体\"\n",
    "pattern = r\"旅行盒.*?适配ABS版\"\n",
    "replacement = \"新映射字符串\"\n",
    "\n",
    "new_text = re.search(pattern,text)\n",
    "\n",
    "print(\"替换后的字符串:\", new_text.group())"
   ]
  },
  {
   "cell_type": "code",
   "execution_count": 63,
   "id": "20176781",
   "metadata": {},
   "outputs": [
    {
     "name": "stdout",
     "output_type": "stream",
     "text": [
      "done!\n"
     ]
    }
   ],
   "source": [
    "# 呆滞物料表数据合并\n",
    "\n",
    "import pandas as pd\n",
    "\n",
    "\n",
    "path = \"xh.xlsx\"\n",
    "outpath = \"output.xlsx\" \n",
    "mergedf = pd.read_excel(path, sheet_name=0)\n",
    "# 按特定索引列数据合并行\n",
    "df_agg = mergedf.groupby(\"物料名称\").agg({\n",
    "    '物料编码': lambda x: ' '.join(x),\n",
    "    '整机退换仓超60天' : 'sum',\n",
    "    '售后待包装仓超60天' : 'sum',\n",
    "    '整机退换仓数量' : 'sum',\n",
    "    '售后待包装仓数量' : 'sum',\n",
    "    }).reset_index()\n",
    "newindex = ['物料编码','物料名称', '整机退换仓数量', '整机退换仓超60天', '售后待包装仓数量', '售后待包装仓超60天',\"呆料占比\"]\n",
    "def caculateRate(row):\n",
    "    return (row['整机退换仓超60天'] + row['售后待包装仓超60天']) / (row['整机退换仓数量'] + row['售后待包装仓数量'])\n",
    "df_agg[\"呆料占比\"] = df_agg.apply(caculateRate, axis=1)\n",
    "df_agg[\"呆料占比\"] = df_agg[\"呆料占比\"].apply(lambda x: \"{:.2%}\".format(x))\n",
    "# print(df_agg['呆料占比'])\n",
    "df_agg = df_agg[newindex]\n",
    "with pd.ExcelWriter(outpath, mode='w') as writer:\n",
    "    df_agg.to_excel(writer,index=False,header=True)\n",
    "print('done!')"
   ]
  },
  {
   "cell_type": "code",
   "execution_count": null,
   "id": "97409505",
   "metadata": {},
   "outputs": [],
   "source": [
    "import pandas as pd\n",
    "df = pd.read_excel('型号.xlsx')\n",
    "print(df)\n",
    "def lj(row):\n",
    "    return row['呆滞原因'] + ''\n",
    "\n",
    "def lj2(row):\n",
    "    return row['后续处理方法'] + ''\n",
    "\n",
    "df = df.groupby('物料名称')[''].agg({\n",
    "    '呆滞原因' : 'lj1',\n",
    "    '后续处理方法' : 'lj2'\n",
    "}).reset_index()\n",
    "df.to_excel('输出.xlsx',index=False)    \n",
    "print('!!done!!')"
   ]
  },
  {
   "cell_type": "code",
   "execution_count": 15,
   "id": "f7438293",
   "metadata": {},
   "outputs": [],
   "source": [
    "import pandas as pd \n",
    "from datetime import datetime, timedelta\n",
    "\n",
    "df = pd.read_excel('厂外二返.xlsx',sheet_name='导出筛选结果')\n",
    "df['进仓时间'] = pd.to_datetime(df['进仓时间'])\n",
    "now = datetime.now()\n",
    "start_date = now - timedelta(days=60)\n",
    "filtered_data = df[(df['进仓时间'] >= start_date) & (df['进仓时间'] <= now)]\n",
    "# filtered_data = filtered_data['线上订单号'].value_counts()[filtered_data['线上订单号'].value_counts() > 1]\n",
    "duplicate_orders = filtered_data['线上订单号'].value_counts()\n",
    "duplicate_orders = duplicate_orders[duplicate_orders > 1]\n",
    "\n",
    "# 将重复订单号保存到DataFrame\n",
    "duplicate_df = duplicate_orders.reset_index()\n",
    "duplicate_df.columns = ['线上订单号', '出现次数']  # 重命名列\n",
    "duplicate_df.to_excel('输出.xlsx',index=False)\n",
    "\n",
    "\n",
    "\n",
    "\n",
    "\n",
    "\n",
    "\n",
    "\n",
    "\n"
   ]
  }
 ],
 "metadata": {
  "kernelspec": {
   "display_name": "base",
   "language": "python",
   "name": "python3"
  },
  "language_info": {
   "codemirror_mode": {
    "name": "ipython",
    "version": 3
   },
   "file_extension": ".py",
   "mimetype": "text/x-python",
   "name": "python",
   "nbconvert_exporter": "python",
   "pygments_lexer": "ipython3",
   "version": "3.12.4"
  }
 },
 "nbformat": 4,
 "nbformat_minor": 5
}
